{
 "cells": [
  {
   "cell_type": "markdown",
   "metadata": {
    "collapsed": true
   },
   "source": [
    "## Forecasting SSH with the qsgw-DI model\n",
    "(Jupyter Notebook prepared by Redouane Lguensat & Clément Ubelmann, 2018)"
   ]
  },
  {
   "cell_type": "code",
   "execution_count": null,
   "metadata": {},
   "outputs": [],
   "source": [
    "import sys\n",
    "print (sys.version)"
   ]
  },
  {
   "cell_type": "code",
   "execution_count": null,
   "metadata": {
    "collapsed": true
   },
   "outputs": [],
   "source": [
    "import sys,os,shutil\n",
    "import numpy\n",
    "import matplotlib.pylab as plt\n",
    "import time\n",
    "import netCDF4 as nc\n",
    "import qgsw"
   ]
  },
  {
   "cell_type": "code",
   "execution_count": null,
   "metadata": {},
   "outputs": [],
   "source": [
    "file='NATL60OSMO-CJM165_y2012m06d14-y2013m10d01.1d_SSHdegrad.nc'\n",
    "fid = nc.Dataset(file)\n",
    "lon1d=numpy.array(fid.variables[\"nav_lon\"][:,:]).squeeze()\n",
    "lat1d=numpy.array(fid.variables[\"nav_lat\"][:,:]).squeeze()\n",
    "#lon,lat=numpy.meshgrid(lon1d,lat1d)\n",
    "SSH=numpy.array(fid.variables[\"degraded_sossheig\"][270,:,:]).squeeze()\n",
    "print lon1d.shape,lat1d.shape,SSH.shape"
   ]
  },
  {
   "cell_type": "code",
   "execution_count": null,
   "metadata": {
    "collapsed": true
   },
   "outputs": [],
   "source": [
    "# Set constant Rossby first baroclinic phase speed to constant value\n",
    "c=SSH*0. + 2.5 # in m/s\n",
    "\n",
    "tint=86400*30 # Time of propagator integration in seconds. Can be positive or negative\n",
    "deltat=86400*1 # Time period of outputs\n",
    "dt=600 # propagator time step"
   ]
  },
  {
   "cell_type": "markdown",
   "metadata": {},
   "source": [
    "## Applying the QGSW operator"
   ]
  },
  {
   "cell_type": "code",
   "execution_count": null,
   "metadata": {
    "scrolled": false
   },
   "outputs": [],
   "source": [
    "Hf,trash=qgsw.qgsw(Hi=SSH, c=c, lon=lon1d, lat=lat1d, tint=tint, dtout=deltat, dt=dt,rappel=None,snu=0.)"
   ]
  },
  {
   "cell_type": "markdown",
   "metadata": {},
   "source": [
    "## Saving the result"
   ]
  },
  {
   "cell_type": "code",
   "execution_count": null,
   "metadata": {},
   "outputs": [],
   "source": [
    "for it in range(numpy.shape(Hf)[0]):\n",
    "    print it\n",
    "    ncout = nc.Dataset('testdata1/ssh9_'+str(it)+'.nc', 'w', format='NETCDF3_CLASSIC')\n",
    "    ncout.createDimension('x', SSH.shape[0])\n",
    "    ncout.createDimension('y', SSH.shape[1])\n",
    "    ncout.createDimension('time', None)\n",
    "    nclon = ncout.createVariable('lon', 'f', ('x','y',))\n",
    "    nclat = ncout.createVariable('lat', 'f', ('x','y',))\n",
    "    nctim = ncout.createVariable('time', 'f', ('time',))\n",
    "#   nchei = ncout.createVariable('SSH', 'f', ('time','y','x',))\n",
    "    nchei = ncout.createVariable('SSH', 'f', ('x','y',))\n",
    "    nclon[:] = lon1d[:]\n",
    "    nclat[:] = lat1d[:]\n",
    "#nctim[:]=range(0,tint+deltat,deltat)\n",
    "    nctim[:]=deltat*it\n",
    "#nchei[:,:,:] = Hf[:,:,:]\n",
    "    nchei[:,:] = Hf[it,:,:]\n",
    "    ncout.close()"
   ]
  },
  {
   "cell_type": "markdown",
   "metadata": {},
   "source": [
    "## Plot"
   ]
  },
  {
   "cell_type": "code",
   "execution_count": null,
   "metadata": {},
   "outputs": [],
   "source": [
    "plt.figure(figsize=(10, 10))\n",
    "vmin=-0.3\n",
    "vmax=0.1\n",
    "\n",
    "plt.subplot(211)\n",
    "plt.pcolormesh(lon1d,lat1d,SSH, vmin=vmin, vmax=vmax)\n",
    "plt.colorbar(extend='both', fraction=0.042, pad=0.04)\n",
    "plt.title('SSH_{t}');\n",
    "\n",
    "plt.subplot(212)\n",
    "#plt.pcolormesh(lon,lat,Hf[-1,:,:], vmin=vmin, vmax=vmax)\n",
    "plt.pcolormesh(lon1d,lat1d,Hf[0,:,:]-SSH)\n",
    "plt.colorbar(extend='both', fraction=0.042, pad=0.04)\n",
    "plt.title('SSH_qg_{t+tint} (here after 30 days)');\n",
    "\n",
    "plt.show()"
   ]
  }
 ],
 "metadata": {
  "kernelspec": {
   "display_name": "Python 2",
   "language": "python",
   "name": "python2"
  },
  "language_info": {
   "codemirror_mode": {
    "name": "ipython",
    "version": 2
   },
   "file_extension": ".py",
   "mimetype": "text/x-python",
   "name": "python",
   "nbconvert_exporter": "python",
   "pygments_lexer": "ipython2",
   "version": "2.7.14"
  }
 },
 "nbformat": 4,
 "nbformat_minor": 2
}
